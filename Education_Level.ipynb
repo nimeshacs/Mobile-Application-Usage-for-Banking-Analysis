{
  "nbformat": 4,
  "nbformat_minor": 0,
  "metadata": {
    "colab": {
      "name": "Education Level.ipynb",
      "provenance": [],
      "collapsed_sections": []
    },
    "kernelspec": {
      "name": "python3",
      "display_name": "Python 3"
    }
  },
  "cells": [
    {
      "cell_type": "code",
      "metadata": {
        "id": "XcXPqcYP6Pf0"
      },
      "source": [
        "import scipy.stats as stats\n",
        "import seaborn as sns\n",
        "import pandas as pd\n",
        "import numpy as np"
      ],
      "execution_count": 8,
      "outputs": []
    },
    {
      "cell_type": "code",
      "metadata": {
        "colab": {
          "base_uri": "https://localhost:8080/"
        },
        "id": "htkm_I3j6TRB",
        "outputId": "0f955d02-a434-4208-c6f8-d7927492d94b"
      },
      "source": [
        "file_name = \"/content/drive/MyDrive/Colab Notebooks/Questionnaire For non Mobile App Users (Responses).si.en.xlsx\"\n",
        "sheet =  \"Form responses 1\"\n",
        "\n",
        "import pandas as pd\n",
        "dataset = pd.read_excel(io=file_name, sheet_name=sheet)\n",
        "print(dataset.head(5))  # print first 5 rows of the dataframe"
      ],
      "execution_count": 3,
      "outputs": [
        {
          "output_type": "stream",
          "text": [
            "                Timestamp  ... What kind of financial services do you want to see through your mobile phone - Debt Management\n",
            "0 2020-11-02 15:32:11.395  ...                                                4.0                                            \n",
            "1 2020-11-02 15:33:52.735  ...                                                1.0                                            \n",
            "2 2020-11-02 15:36:05.548  ...                                                5.0                                            \n",
            "3 2020-11-02 15:42:37.935  ...                                                5.0                                            \n",
            "4 2020-11-02 15:46:50.137  ...                                                5.0                                            \n",
            "\n",
            "[5 rows x 25 columns]\n"
          ],
          "name": "stdout"
        }
      ]
    },
    {
      "cell_type": "code",
      "metadata": {
        "colab": {
          "base_uri": "https://localhost:8080/"
        },
        "id": "VwvMasd36674",
        "outputId": "3e293ea9-2fd8-4dfb-8f3a-dc5d3642506a"
      },
      "source": [
        "dataset_table=pd.crosstab(dataset['Level of education'],dataset['Do you use mobile app for banking'])\n",
        "print(dataset_table)"
      ],
      "execution_count": 4,
      "outputs": [
        {
          "output_type": "stream",
          "text": [
            "Do you use mobile app for banking  No  Yes\n",
            "Level of education                        \n",
            "A / L                              35    5\n",
            "Basic education                     2    0\n",
            "Degree                              9   28\n",
            "Diploma                             7    6\n",
            "Graduate diploma                    0    1\n",
            "Master's Degree (MSC)               2    9\n",
            "O / L                               2    0\n"
          ],
          "name": "stdout"
        }
      ]
    },
    {
      "cell_type": "code",
      "metadata": {
        "colab": {
          "base_uri": "https://localhost:8080/"
        },
        "id": "Y1XvEdx9P4cs",
        "outputId": "e9c36288-9a66-462d-e8fc-2594c02fdbb5"
      },
      "source": [
        "#Observed Values\n",
        "Observed_Values = dataset_table.values \n",
        "print(\"Observed Values :-\\n\",Observed_Values)"
      ],
      "execution_count": 5,
      "outputs": [
        {
          "output_type": "stream",
          "text": [
            "Observed Values :-\n",
            " [[35  5]\n",
            " [ 2  0]\n",
            " [ 9 28]\n",
            " [ 7  6]\n",
            " [ 0  1]\n",
            " [ 2  9]\n",
            " [ 2  0]]\n"
          ],
          "name": "stdout"
        }
      ]
    },
    {
      "cell_type": "code",
      "metadata": {
        "colab": {
          "base_uri": "https://localhost:8080/"
        },
        "id": "d8R7pw_sQseA",
        "outputId": "eb116787-39fe-4408-a0c4-a76bed307bb1"
      },
      "source": [
        "val=stats.chi2_contingency(dataset_table)\n",
        "val"
      ],
      "execution_count": 11,
      "outputs": [
        {
          "output_type": "execute_result",
          "data": {
            "text/plain": [
              "(41.42038125120832,\n",
              " 2.3927438722251956e-07,\n",
              " 6,\n",
              " array([[21.50943396, 18.49056604],\n",
              "        [ 1.0754717 ,  0.9245283 ],\n",
              "        [19.89622642, 17.10377358],\n",
              "        [ 6.99056604,  6.00943396],\n",
              "        [ 0.53773585,  0.46226415],\n",
              "        [ 5.91509434,  5.08490566],\n",
              "        [ 1.0754717 ,  0.9245283 ]]))"
            ]
          },
          "metadata": {
            "tags": []
          },
          "execution_count": 11
        }
      ]
    },
    {
      "cell_type": "code",
      "metadata": {
        "id": "Hd9OyOTrQ-js"
      },
      "source": [
        "Expected_Values=val[3]"
      ],
      "execution_count": 17,
      "outputs": []
    },
    {
      "cell_type": "code",
      "metadata": {
        "colab": {
          "base_uri": "https://localhost:8080/"
        },
        "id": "wzPIgezfRGA5",
        "outputId": "be53ed9c-8c04-4442-b684-7db411f02f44"
      },
      "source": [
        "no_of_rows=len(dataset_table.iloc[0:2,0])\n",
        "no_of_columns=len(dataset_table.iloc[0,0:2])\n",
        "ddof=(no_of_rows-1)*(no_of_columns-1)\n",
        "print(\"Degree of Freedom:-\",ddof)\n",
        "alpha = 0.05"
      ],
      "execution_count": 18,
      "outputs": [
        {
          "output_type": "stream",
          "text": [
            "Degree of Freedom:- 1\n"
          ],
          "name": "stdout"
        }
      ]
    },
    {
      "cell_type": "code",
      "metadata": {
        "id": "x0Dk6kEUTVQ3"
      },
      "source": [
        ""
      ],
      "execution_count": null,
      "outputs": []
    },
    {
      "cell_type": "code",
      "metadata": {
        "colab": {
          "base_uri": "https://localhost:8080/"
        },
        "id": "DZ2i2F37RMyc",
        "outputId": "88d9ecde-dc19-4528-eaa0-30f32e5f94c5"
      },
      "source": [
        "from scipy.stats import chi2\n",
        "chi_square=sum([(o-e)**2./e for o,e in zip(Observed_Values,Expected_Values)])\n",
        "chi_square_statistic=chi_square[0]+chi_square[1]\n",
        "\n",
        "print(\"chi-square statistic:-\",chi_square_statistic)"
      ],
      "execution_count": 19,
      "outputs": [
        {
          "output_type": "stream",
          "text": [
            "chi-square statistic:- 41.420381251208326\n"
          ],
          "name": "stdout"
        }
      ]
    },
    {
      "cell_type": "code",
      "metadata": {
        "colab": {
          "base_uri": "https://localhost:8080/"
        },
        "id": "UNxGg_bTSYBY",
        "outputId": "029079d6-2cab-42a6-e7e3-d469e983149c"
      },
      "source": [
        "critical_value=chi2.ppf(q=1-alpha,df=ddof)\n",
        "print('critical_value:',critical_value)"
      ],
      "execution_count": 20,
      "outputs": [
        {
          "output_type": "stream",
          "text": [
            "critical_value: 3.841458820694124\n"
          ],
          "name": "stdout"
        }
      ]
    },
    {
      "cell_type": "code",
      "metadata": {
        "colab": {
          "base_uri": "https://localhost:8080/"
        },
        "id": "SVC8f-mRS3KE",
        "outputId": "e010c5db-b377-4d00-9755-21511b65e929"
      },
      "source": [
        "\n",
        "#p-value\n",
        "p_value=1-chi2.cdf(x=chi_square_statistic,df=ddof)\n",
        "print('p-value:',p_value)\n",
        "print('Significance level: ',alpha)\n",
        "print('Degree of Freedom: ',ddof)\n",
        "print('p-value:',p_value)"
      ],
      "execution_count": 45,
      "outputs": [
        {
          "output_type": "stream",
          "text": [
            "p-value: 1.2277068250909906e-10\n",
            "Significance level:  0.05\n",
            "Degree of Freedom:  1\n",
            "p-value: 1.2277068250909906e-10\n"
          ],
          "name": "stdout"
        }
      ]
    },
    {
      "cell_type": "code",
      "metadata": {
        "colab": {
          "base_uri": "https://localhost:8080/"
        },
        "id": "YJJtw2_oS-Ln",
        "outputId": "bfbcd357-677f-46d9-d4f2-04833fc0616a"
      },
      "source": [
        "if chi_square_statistic>=critical_value:\n",
        "    print(\"Reject H0,There is a relationship between 2 categorical variables\")\n",
        "else:\n",
        "    print(\"Retain H0,There is no relationship between 2 categorical variables\")\n",
        "    \n",
        "if p_value<=alpha:\n",
        "    print(\"Reject H0,There is a relationship between 2 categorical variables\")\n",
        "else:\n",
        "    print(\"Retain H0,There is no relationship between 2 categorical variables\")"
      ],
      "execution_count": 28,
      "outputs": [
        {
          "output_type": "stream",
          "text": [
            "Reject H0,There is a relationship between 2 categorical variables\n",
            "Reject H0,There is a relationship between 2 categorical variables\n"
          ],
          "name": "stdout"
        }
      ]
    }
  ]
}