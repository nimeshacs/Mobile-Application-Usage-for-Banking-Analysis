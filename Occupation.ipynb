{
  "nbformat": 4,
  "nbformat_minor": 0,
  "metadata": {
    "colab": {
      "name": "Occupation.ipynb",
      "provenance": [],
      "collapsed_sections": []
    },
    "kernelspec": {
      "name": "python3",
      "display_name": "Python 3"
    }
  },
  "cells": [
    {
      "cell_type": "code",
      "metadata": {
        "id": "-5niSvqpccDt"
      },
      "source": [
        "import scipy.stats as stats\n",
        "import seaborn as sns\n",
        "import pandas as pd\n",
        "import numpy as np"
      ],
      "execution_count": 16,
      "outputs": []
    },
    {
      "cell_type": "code",
      "metadata": {
        "colab": {
          "base_uri": "https://localhost:8080/"
        },
        "id": "33i9Hy6rceop",
        "outputId": "46286ec1-929e-4eae-889e-ea5b3d408986"
      },
      "source": [
        "file_name = \"/content/drive/MyDrive/Colab Notebooks/Questionnaire For non Mobile App Users (Responses).si.en.xlsx\"\n",
        "sheet =  \"Form responses 1\"\n",
        "\n",
        "import pandas as pd\n",
        "dataset = pd.read_excel(io=file_name, sheet_name=sheet)\n",
        "print(dataset.head(5))  # print first 5 rows of the dataframe"
      ],
      "execution_count": 27,
      "outputs": [
        {
          "output_type": "stream",
          "text": [
            "                Timestamp  ... What kind of financial services do you want to see through your mobile phone - Debt Management\n",
            "0 2020-11-02 15:32:11.395  ...                                                4.0                                            \n",
            "1 2020-11-02 15:33:52.735  ...                                                1.0                                            \n",
            "2 2020-11-02 15:36:05.548  ...                                                5.0                                            \n",
            "3 2020-11-02 15:42:37.935  ...                                                5.0                                            \n",
            "4 2020-11-02 15:46:50.137  ...                                                5.0                                            \n",
            "\n",
            "[5 rows x 26 columns]\n"
          ],
          "name": "stdout"
        }
      ]
    },
    {
      "cell_type": "code",
      "metadata": {
        "colab": {
          "base_uri": "https://localhost:8080/"
        },
        "id": "COMoB4AIdA_w",
        "outputId": "ba1e17e5-def0-4ec8-b49e-fa80cc92f0d5"
      },
      "source": [
        "dataset_table=pd.crosstab(dataset['Degree non degree'],dataset['Do you use mobile app for banking'])\n",
        "print(dataset_table)"
      ],
      "execution_count": 28,
      "outputs": [
        {
          "output_type": "stream",
          "text": [
            "Do you use mobile app for banking  No  Yes\n",
            "Degree non degree                         \n",
            "No                                 46   12\n",
            "Yes                                11   37\n"
          ],
          "name": "stdout"
        }
      ]
    },
    {
      "cell_type": "code",
      "metadata": {
        "colab": {
          "base_uri": "https://localhost:8080/"
        },
        "id": "-ztrvuKVdPDC",
        "outputId": "58f60a78-6f62-4fd4-c559-7058b5637006"
      },
      "source": [
        "#Observed Values\n",
        "Observed_Values = dataset_table.values \n",
        "print(\"Observed Values :-\\n\",Observed_Values)"
      ],
      "execution_count": 29,
      "outputs": [
        {
          "output_type": "stream",
          "text": [
            "Observed Values :-\n",
            " [[46 12]\n",
            " [11 37]]\n"
          ],
          "name": "stdout"
        }
      ]
    },
    {
      "cell_type": "code",
      "metadata": {
        "colab": {
          "base_uri": "https://localhost:8080/"
        },
        "id": "YjZaPZzJdQ6v",
        "outputId": "5342f5eb-ac17-42b7-b6aa-e73b9646e556"
      },
      "source": [
        "val=stats.chi2_contingency(dataset_table)\n",
        "val"
      ],
      "execution_count": 31,
      "outputs": [
        {
          "output_type": "execute_result",
          "data": {
            "text/plain": [
              "(31.37161381491495,\n",
              " 2.130734281471284e-08,\n",
              " 1,\n",
              " array([[31.18867925, 26.81132075],\n",
              "        [25.81132075, 22.18867925]]))"
            ]
          },
          "metadata": {
            "tags": []
          },
          "execution_count": 31
        }
      ]
    },
    {
      "cell_type": "code",
      "metadata": {
        "id": "4wcNK6FtdSji",
        "colab": {
          "base_uri": "https://localhost:8080/"
        },
        "outputId": "1793a868-51cb-4d36-ad78-f2e6f7a6bdf3"
      },
      "source": [
        "Expected_Values=val[3]\r\n",
        "print(Expected_Values)"
      ],
      "execution_count": 32,
      "outputs": [
        {
          "output_type": "stream",
          "text": [
            "[[31.18867925 26.81132075]\n",
            " [25.81132075 22.18867925]]\n"
          ],
          "name": "stdout"
        }
      ]
    },
    {
      "cell_type": "code",
      "metadata": {
        "colab": {
          "base_uri": "https://localhost:8080/"
        },
        "id": "wXB5-oDldUmK",
        "outputId": "2a463a1c-b4cf-4e87-f999-26bb8ff8769a"
      },
      "source": [
        "no_of_rows=len(dataset_table.iloc[0:2,0])\n",
        "no_of_columns=len(dataset_table.iloc[0,0:2])\n",
        "ddof=(no_of_rows-1)*(no_of_columns-1)\n",
        "print(\"Degree of Freedom:-\",ddof)\n",
        "alpha = 0.05"
      ],
      "execution_count": 33,
      "outputs": [
        {
          "output_type": "stream",
          "text": [
            "Degree of Freedom:- 1\n"
          ],
          "name": "stdout"
        }
      ]
    },
    {
      "cell_type": "code",
      "metadata": {
        "colab": {
          "base_uri": "https://localhost:8080/"
        },
        "id": "qSfOiTMUdWmp",
        "outputId": "0d9239da-7400-4a45-d860-194cd55910de"
      },
      "source": [
        "from scipy.stats import chi2\n",
        "chi_square=sum([(o-e)**2./e for o,e in zip(Observed_Values,Expected_Values)])\n",
        "chi_square_statistic=chi_square[0]+chi_square[1]\n",
        "\n",
        "print(\"chi-square statistic:-\",chi_square_statistic)"
      ],
      "execution_count": 34,
      "outputs": [
        {
          "output_type": "stream",
          "text": [
            "chi-square statistic:- 33.60199040293673\n"
          ],
          "name": "stdout"
        }
      ]
    },
    {
      "cell_type": "code",
      "metadata": {
        "colab": {
          "base_uri": "https://localhost:8080/"
        },
        "id": "UUmgVCiUdYON",
        "outputId": "b5feb244-8f00-4327-f67d-70932b3c58e8"
      },
      "source": [
        "critical_value=chi2.ppf(q=1-alpha,df=ddof)\n",
        "print('critical_value:',critical_value)"
      ],
      "execution_count": 35,
      "outputs": [
        {
          "output_type": "stream",
          "text": [
            "critical_value: 3.841458820694124\n"
          ],
          "name": "stdout"
        }
      ]
    },
    {
      "cell_type": "code",
      "metadata": {
        "colab": {
          "base_uri": "https://localhost:8080/"
        },
        "id": "F55Am6qidabJ",
        "outputId": "b394edc5-064f-4c43-d6fa-ba1a3ac706d0"
      },
      "source": [
        "#p-value\n",
        "p_value=1-chi2.cdf(x=chi_square_statistic,df=ddof)\n",
        "print('p-value:',p_value)\n",
        "print('Significance level: ',alpha)\n",
        "print('Degree of Freedom: ',ddof)\n",
        "print('p-value:',p_value)"
      ],
      "execution_count": 36,
      "outputs": [
        {
          "output_type": "stream",
          "text": [
            "p-value: 6.762349458178107e-09\n",
            "Significance level:  0.05\n",
            "Degree of Freedom:  1\n",
            "p-value: 6.762349458178107e-09\n"
          ],
          "name": "stdout"
        }
      ]
    },
    {
      "cell_type": "code",
      "metadata": {
        "colab": {
          "base_uri": "https://localhost:8080/"
        },
        "id": "Khqw7UL2deHg",
        "outputId": "415011f0-9849-4cad-ef54-be672849a8e5"
      },
      "source": [
        "if chi_square_statistic>=critical_value:\n",
        "    print(\"Reject H0,There is a relationship between 2 categorical variables\")\n",
        "else:\n",
        "    print(\"Retain H0,There is no relationship between 2 categorical variables\")\n",
        "    \n",
        "if p_value<=alpha:\n",
        "    print(\"Reject H0,There is a relationship between 2 categorical variables\")\n",
        "else:\n",
        "    print(\"Retain H0,There is no relationship between 2 categorical variables\")"
      ],
      "execution_count": 37,
      "outputs": [
        {
          "output_type": "stream",
          "text": [
            "Reject H0,There is a relationship between 2 categorical variables\n",
            "Reject H0,There is a relationship between 2 categorical variables\n"
          ],
          "name": "stdout"
        }
      ]
    }
  ]
}